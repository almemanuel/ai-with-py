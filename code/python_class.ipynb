{
  "nbformat": 4,
  "nbformat_minor": 0,
  "metadata": {
    "colab": {
      "name": "python-class.ipynb",
      "provenance": [],
      "collapsed_sections": [],
      "authorship_tag": "ABX9TyMjX5AMpo8s4BpppdQaq4an",
      "include_colab_link": true
    },
    "kernelspec": {
      "name": "python3",
      "display_name": "Python 3"
    },
    "language_info": {
      "name": "python"
    }
  },
  "cells": [
    {
      "cell_type": "markdown",
      "metadata": {
        "id": "view-in-github",
        "colab_type": "text"
      },
      "source": [
        "<a href=\"https://colab.research.google.com/github/almemanuel/ai-with-py/blob/main/python_class.ipynb\" target=\"_parent\"><img src=\"https://colab.research.google.com/assets/colab-badge.svg\" alt=\"Open In Colab\"/></a>"
      ]
    },
    {
      "cell_type": "markdown",
      "metadata": {
        "id": "dEd-j4Pfl8fS"
      },
      "source": [
        "# Python Basics"
      ]
    },
    {
      "cell_type": "markdown",
      "metadata": {
        "id": "qKvZ3ODJmGbh"
      },
      "source": [
        "To *print* a variable:"
      ]
    },
    {
      "cell_type": "code",
      "metadata": {
        "colab": {
          "base_uri": "https://localhost:8080/"
        },
        "id": "Gk8wWBxJruNY",
        "outputId": "974c84f1-3756-4835-9d17-06d47e03ffb2"
      },
      "source": [
        "name = 'Michel'\n",
        "print(name)"
      ],
      "execution_count": 1,
      "outputs": [
        {
          "output_type": "stream",
          "text": [
            "Michel\n"
          ],
          "name": "stdout"
        }
      ]
    },
    {
      "cell_type": "markdown",
      "metadata": {
        "id": "PZoFQ-dhmTrP"
      },
      "source": [
        "On a **notebook**, the blocks print the return. So, we can use:"
      ]
    },
    {
      "cell_type": "code",
      "metadata": {
        "colab": {
          "base_uri": "https://localhost:8080/",
          "height": 37
        },
        "id": "9FnRYobLsmHY",
        "outputId": "f1e70d0f-33b2-494b-8085-42a976e2dfb8"
      },
      "source": [
        "name = 'Mark'\n",
        "name"
      ],
      "execution_count": 2,
      "outputs": [
        {
          "output_type": "execute_result",
          "data": {
            "application/vnd.google.colaboratory.intrinsic+json": {
              "type": "string"
            },
            "text/plain": [
              "'Mark'"
            ]
          },
          "metadata": {
            "tags": []
          },
          "execution_count": 2
        }
      ]
    },
    {
      "cell_type": "code",
      "metadata": {
        "colab": {
          "base_uri": "https://localhost:8080/"
        },
        "id": "fTMwwpjgsxMv",
        "outputId": "c2374add-f93d-44d6-b4e3-39551402ac91"
      },
      "source": [
        "age = 23\n",
        "age"
      ],
      "execution_count": 3,
      "outputs": [
        {
          "output_type": "execute_result",
          "data": {
            "text/plain": [
              "23"
            ]
          },
          "metadata": {
            "tags": []
          },
          "execution_count": 3
        }
      ]
    },
    {
      "cell_type": "code",
      "metadata": {
        "colab": {
          "base_uri": "https://localhost:8080/"
        },
        "id": "iL-u_GDZs8mi",
        "outputId": "b9ddead3-6c4b-4c94-f26d-cc7150a571b1"
      },
      "source": [
        "age"
      ],
      "execution_count": 4,
      "outputs": [
        {
          "output_type": "execute_result",
          "data": {
            "text/plain": [
              "23"
            ]
          },
          "metadata": {
            "tags": []
          },
          "execution_count": 4
        }
      ]
    },
    {
      "cell_type": "code",
      "metadata": {
        "colab": {
          "base_uri": "https://localhost:8080/"
        },
        "id": "5SrYHrJEtBWF",
        "outputId": "7b5e0fed-4460-4103-c034-b0cf00dda6bb"
      },
      "source": [
        "age = age + 3\n",
        "age"
      ],
      "execution_count": 5,
      "outputs": [
        {
          "output_type": "execute_result",
          "data": {
            "text/plain": [
              "26"
            ]
          },
          "metadata": {
            "tags": []
          },
          "execution_count": 5
        }
      ]
    },
    {
      "cell_type": "code",
      "metadata": {
        "colab": {
          "base_uri": "https://localhost:8080/"
        },
        "id": "zve15t2jtEFI",
        "outputId": "b58d1bf9-893e-48a8-e4b7-14780c08ddea"
      },
      "source": [
        "age"
      ],
      "execution_count": 6,
      "outputs": [
        {
          "output_type": "execute_result",
          "data": {
            "text/plain": [
              "26"
            ]
          },
          "metadata": {
            "tags": []
          },
          "execution_count": 6
        }
      ]
    },
    {
      "cell_type": "markdown",
      "metadata": {
        "id": "vIyM3L0tmoqd"
      },
      "source": [
        "To define a **function**, we can use:"
      ]
    },
    {
      "cell_type": "code",
      "metadata": {
        "id": "1TYrjKWIt0Ii"
      },
      "source": [
        "def more_one_year(age):\n",
        "  print(\"Inside function!\")\n",
        "  return age + 1"
      ],
      "execution_count": 7,
      "outputs": []
    },
    {
      "cell_type": "markdown",
      "metadata": {
        "id": "gz83PxXWmzN5"
      },
      "source": [
        "To use a function, we can use:"
      ]
    },
    {
      "cell_type": "code",
      "metadata": {
        "colab": {
          "base_uri": "https://localhost:8080/"
        },
        "id": "k8LFIQKkupLt",
        "outputId": "9b19937d-d0c0-4fcf-9faf-bed5b1488501"
      },
      "source": [
        "more_one_year(age)"
      ],
      "execution_count": 12,
      "outputs": [
        {
          "output_type": "stream",
          "text": [
            "Inside function!\n"
          ],
          "name": "stdout"
        },
        {
          "output_type": "execute_result",
          "data": {
            "text/plain": [
              "27"
            ]
          },
          "metadata": {
            "tags": []
          },
          "execution_count": 12
        }
      ]
    },
    {
      "cell_type": "code",
      "metadata": {
        "id": "Fz97b8KouynG"
      },
      "source": [
        "movie1 = 'Toy Story'\n",
        "movie2 = 'Xuxa'\n",
        "movie3 = 'Matrix'"
      ],
      "execution_count": 13,
      "outputs": []
    },
    {
      "cell_type": "markdown",
      "metadata": {
        "id": "e2TBlfXgm-RP"
      },
      "source": [
        "To **list**, the index are integers, start of 0. The index has a different value"
      ]
    },
    {
      "cell_type": "code",
      "metadata": {
        "colab": {
          "base_uri": "https://localhost:8080/"
        },
        "id": "BPMliReAvZUu",
        "outputId": "add19ef2-c2c8-4988-bbce-930e65ab26d5"
      },
      "source": [
        "movies = ['Toy Story', 'Xuxa', 'Matrix']\n",
        "movies"
      ],
      "execution_count": 14,
      "outputs": [
        {
          "output_type": "execute_result",
          "data": {
            "text/plain": [
              "['Toy Story', 'Xuxa', 'Matrix']"
            ]
          },
          "metadata": {
            "tags": []
          },
          "execution_count": 14
        }
      ]
    },
    {
      "cell_type": "code",
      "metadata": {
        "colab": {
          "base_uri": "https://localhost:8080/"
        },
        "id": "LLLbdGEzvgrn",
        "outputId": "ccff268d-ac31-4b59-a201-3c1042647ccf"
      },
      "source": [
        "movies = [movie1, movie2, movie3]\n",
        "movies"
      ],
      "execution_count": 15,
      "outputs": [
        {
          "output_type": "execute_result",
          "data": {
            "text/plain": [
              "['Toy Story', 'Xuxa', 'Matrix']"
            ]
          },
          "metadata": {
            "tags": []
          },
          "execution_count": 15
        }
      ]
    },
    {
      "cell_type": "markdown",
      "metadata": {
        "id": "Wg_VP3O-nYIQ"
      },
      "source": [
        "Lists --> [ ]"
      ]
    },
    {
      "cell_type": "code",
      "metadata": {
        "colab": {
          "base_uri": "https://localhost:8080/"
        },
        "id": "Nq58b5TIvm1i",
        "outputId": "22c97b52-256d-4ae1-aacb-fc95fe1868ef"
      },
      "source": [
        "list()"
      ],
      "execution_count": 16,
      "outputs": [
        {
          "output_type": "execute_result",
          "data": {
            "text/plain": [
              "[]"
            ]
          },
          "metadata": {
            "tags": []
          },
          "execution_count": 16
        }
      ]
    },
    {
      "cell_type": "code",
      "metadata": {
        "id": "LVPQS8jjv9Gf"
      },
      "source": [
        "def print_movies(movies_to_print):\n",
        "  print(\"Movies List\")\n",
        "  print(movies_to_print)\n"
      ],
      "execution_count": 18,
      "outputs": []
    },
    {
      "cell_type": "code",
      "metadata": {
        "colab": {
          "base_uri": "https://localhost:8080/"
        },
        "id": "dZKv12gzwbv2",
        "outputId": "e50f1c42-4cf2-4dbb-f060-611ed16cb9f2"
      },
      "source": [
        "print_movies(movies)"
      ],
      "execution_count": 19,
      "outputs": [
        {
          "output_type": "stream",
          "text": [
            "Movies List\n",
            "['Toy Story', 'Xuxa', 'Matrix']\n"
          ],
          "name": "stdout"
        }
      ]
    },
    {
      "cell_type": "code",
      "metadata": {
        "colab": {
          "base_uri": "https://localhost:8080/",
          "height": 37
        },
        "id": "tOpWAdPrwiTb",
        "outputId": "afad9a26-f679-4216-fa74-8d2bca59df86"
      },
      "source": [
        "movies[1]"
      ],
      "execution_count": 20,
      "outputs": [
        {
          "output_type": "execute_result",
          "data": {
            "application/vnd.google.colaboratory.intrinsic+json": {
              "type": "string"
            },
            "text/plain": [
              "'Xuxa'"
            ]
          },
          "metadata": {
            "tags": []
          },
          "execution_count": 20
        }
      ]
    },
    {
      "cell_type": "markdown",
      "metadata": {
        "id": "ng401dpsnh5J"
      },
      "source": [
        "Negatives index return the correspondent item start the last index"
      ]
    },
    {
      "cell_type": "code",
      "metadata": {
        "colab": {
          "base_uri": "https://localhost:8080/",
          "height": 37
        },
        "id": "mGPjpQEPwpOc",
        "outputId": "228f397e-e23f-4254-c7e3-2438d00f340f"
      },
      "source": [
        "movies[-1]"
      ],
      "execution_count": 21,
      "outputs": [
        {
          "output_type": "execute_result",
          "data": {
            "application/vnd.google.colaboratory.intrinsic+json": {
              "type": "string"
            },
            "text/plain": [
              "'Matrix'"
            ]
          },
          "metadata": {
            "tags": []
          },
          "execution_count": 21
        }
      ]
    },
    {
      "cell_type": "markdown",
      "metadata": {
        "id": "dpQeav0jpo1L"
      },
      "source": [
        "_:_ uses a range in the variable"
      ]
    },
    {
      "cell_type": "code",
      "metadata": {
        "colab": {
          "base_uri": "https://localhost:8080/"
        },
        "id": "z8gPiGZbw69N",
        "outputId": "8dd58f26-72b9-4f86-f74f-bacee620ff18"
      },
      "source": [
        "movies[1:]"
      ],
      "execution_count": 22,
      "outputs": [
        {
          "output_type": "execute_result",
          "data": {
            "text/plain": [
              "['Xuxa', 'Matrix']"
            ]
          },
          "metadata": {
            "tags": []
          },
          "execution_count": 22
        }
      ]
    },
    {
      "cell_type": "code",
      "metadata": {
        "colab": {
          "base_uri": "https://localhost:8080/"
        },
        "id": "QmhF0PyYxDSI",
        "outputId": "bfce3117-12d7-4e3e-9b3c-62c4eb8edbd9"
      },
      "source": [
        "movies[-2:]"
      ],
      "execution_count": 23,
      "outputs": [
        {
          "output_type": "execute_result",
          "data": {
            "text/plain": [
              "['Xuxa', 'Matrix']"
            ]
          },
          "metadata": {
            "tags": []
          },
          "execution_count": 23
        }
      ]
    },
    {
      "cell_type": "markdown",
      "metadata": {
        "id": "HoOW_k_cnuov"
      },
      "source": [
        "To explore a compost variable, we can use **for**"
      ]
    },
    {
      "cell_type": "code",
      "metadata": {
        "colab": {
          "base_uri": "https://localhost:8080/"
        },
        "id": "H-mhmP4TxGUH",
        "outputId": "b26e2acc-3078-40c6-db1c-02a275c75525"
      },
      "source": [
        "for movie in movies:\n",
        "  print(movie)\n",
        "  print('...')\n",
        "print('Outside loop!')"
      ],
      "execution_count": 24,
      "outputs": [
        {
          "output_type": "stream",
          "text": [
            "Toy Story\n",
            "...\n",
            "Xuxa\n",
            "...\n",
            "Matrix\n",
            "...\n",
            "Outside loop!\n"
          ],
          "name": "stdout"
        }
      ]
    },
    {
      "cell_type": "code",
      "metadata": {
        "id": "u30EivlVxswi"
      },
      "source": [
        "def print_movies(movies_to_print):\n",
        "  print(\"Movies list:\")\n",
        "  for movie in movies_to_print:\n",
        "    print(movie)"
      ],
      "execution_count": 25,
      "outputs": []
    },
    {
      "cell_type": "code",
      "metadata": {
        "colab": {
          "base_uri": "https://localhost:8080/"
        },
        "id": "uVFatVChyQFE",
        "outputId": "67c27795-9dbe-4fe3-da6c-69f75aa4b1f6"
      },
      "source": [
        "print_movies(movies)"
      ],
      "execution_count": 26,
      "outputs": [
        {
          "output_type": "stream",
          "text": [
            "Movies list:\n",
            "Toy Story\n",
            "Xuxa\n",
            "Matrix\n"
          ],
          "name": "stdout"
        }
      ]
    },
    {
      "cell_type": "markdown",
      "metadata": {
        "id": "ukooQsqUo_gm"
      },
      "source": [
        "**Dictionaries** has keys"
      ]
    },
    {
      "cell_type": "code",
      "metadata": {
        "colab": {
          "base_uri": "https://localhost:8080/"
        },
        "id": "RvSews3VyWiC",
        "outputId": "d3169cc6-eab2-45a5-8d5f-1737663a84c4"
      },
      "source": [
        "data = {'name': 'Mark',\n",
        "        'age': 40}\n",
        "data"
      ],
      "execution_count": 27,
      "outputs": [
        {
          "output_type": "execute_result",
          "data": {
            "text/plain": [
              "{'age': 40, 'name': 'Mark'}"
            ]
          },
          "metadata": {
            "tags": []
          },
          "execution_count": 27
        }
      ]
    },
    {
      "cell_type": "code",
      "metadata": {
        "id": "IsTpvJeFy-f4",
        "colab": {
          "base_uri": "https://localhost:8080/",
          "height": 37
        },
        "outputId": "e7ec1db2-f290-487f-82b2-84daab9b3c1e"
      },
      "source": [
        "data['name']"
      ],
      "execution_count": 28,
      "outputs": [
        {
          "output_type": "execute_result",
          "data": {
            "application/vnd.google.colaboratory.intrinsic+json": {
              "type": "string"
            },
            "text/plain": [
              "'Mark'"
            ]
          },
          "metadata": {
            "tags": []
          },
          "execution_count": 28
        }
      ]
    }
  ]
}